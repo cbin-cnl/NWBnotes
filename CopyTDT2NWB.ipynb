{
 "cells": [
  {
   "cell_type": "code",
   "execution_count": 31,
   "metadata": {},
   "outputs": [],
   "source": [
    "# Imports\n",
    "from pathlib import Path\n",
    "Path.ls = lambda x: list(x.iterdir())\n",
    "from pynwb import NWBFile\n",
    "import tdt\n",
    "import numpy as np"
   ]
  },
  {
   "cell_type": "markdown",
   "metadata": {},
   "source": [
    "## Set Paths"
   ]
  },
  {
   "cell_type": "code",
   "execution_count": null,
   "metadata": {},
   "outputs": [],
   "source": [
    "blockpath = '/Users/bendichter/Desktop/Chang/data/TDTBackup/EC125_B22';\n",
    "imaging_path = '/Users/bendichter/Desktop/Chang/data/EC125/Imaging';\n",
    "elecspath = fullfile(imaging_path, 'elecs', 'TDT_elecs_all.mat');\n",
    "hilb_hg_path = '/Users/bendichter/Desktop/Chang/data/EC125/EC125_B22/HilbAA_70to150_8band';\n",
    " "
   ]
  },
  {
   "cell_type": "code",
   "execution_count": 3,
   "metadata": {},
   "outputs": [],
   "source": [
    "blockpath = 'try2/B20_fixation/'\n",
    "eyetrackerpath = 'try2/Eye_fv_subNS140_02.mat'\n",
    "elecspath = '' # TODO: get elecs data structure\n"
   ]
  },
  {
   "cell_type": "markdown",
   "metadata": {},
   "source": [
    "## Create NWB file"
   ]
  },
  {
   "cell_type": "code",
   "execution_count": null,
   "metadata": {},
   "outputs": [],
   "source": [
    "[basepath, blockname] = fileparts(blockpath);\n",
    "\n",
    "nwb_path = fullfile(basepath, [blockname '.nwb']);\n",
    "%%\n",
    "tdt = contrib.tdt.TDTbin2mat(blockpath);\n",
    "\n",
    "%%\n",
    "date = datevec([tdt.info.date tdt.info.utcStartTime]);\n",
    "\n",
    "session_start_time = datetime(date,'Format','yyyy-MM-dd''T''HH:mm:SSZZ',...\n",
    "    'TimeZone','local');\n",
    "\n",
    "file = nwbfile('session_description', 'a test NWB File', ...\n",
    "    'identifier', blockname, ...\n",
    "    'session_start_time', session_start_time);"
   ]
  },
  {
   "cell_type": "code",
   "execution_count": 7,
   "metadata": {},
   "outputs": [
    {
     "name": "stdout",
     "output_type": "stream",
     "text": [
      "read from t=0s to t=472.71s\n"
     ]
    },
    {
     "name": "stderr",
     "output_type": "stream",
     "text": [
      "/home/dent/scratch/venv/lib/python3.7/site-packages/tdt/TDTbin2py.py:1684: Warning: Expecting SEV files for RSn1 but none were found, skipping...\n",
      "  warnings.warn('Expecting SEV files for {0} but none were found, skipping...'.format(current_name), Warning)\n",
      "/home/dent/scratch/venv/lib/python3.7/site-packages/tdt/TDTbin2py.py:1684: Warning: Expecting SEV files for RSn2 but none were found, skipping...\n",
      "  warnings.warn('Expecting SEV files for {0} but none were found, skipping...'.format(current_name), Warning)\n"
     ]
    },
    {
     "name": "stdout",
     "output_type": "stream",
     "text": [
      "Using 24414.0625 Hz as SEV sampling rate for Wav5\n"
     ]
    }
   ],
   "source": [
    "blockpath = Path(blockpath)\n",
    "tdt_data = tdt.read_block(str(\"try2/B20_fixation\"))"
   ]
  },
  {
   "cell_type": "code",
   "execution_count": 12,
   "metadata": {},
   "outputs": [],
   "source": [
    "nwb = NWBFile(session_description='test_reading_TDT_file',  # required\n",
    "                  identifier='NS140_02',  # required\n",
    "                  session_start_time=tdt_data.info.start_date)"
   ]
  },
  {
   "cell_type": "markdown",
   "metadata": {},
   "source": [
    "## Create Electrode Table "
   ]
  },
  {
   "cell_type": "code",
   "execution_count": null,
   "metadata": {},
   "outputs": [],
   "source": [
    "%% Electrode Table\n",
    "\n",
    "[file, ecog_channels] = elecs2ElectrodeTable(file, elecspath);\n",
    "\n",
    "x = length(file.general_extracellular_ephys_electrodes.id.data);\n",
    "\n",
    "ov = types.untyped.ObjectView('/general/extracellular_ephys/electrodes');\n",
    "\n",
    "electrode_table_region = types.core.DynamicTableRegion('table', ov, ...\n",
    "    'description', 'all electrodes',...\n",
    "    'data', [1 x]');"
   ]
  },
  {
   "cell_type": "code",
   "execution_count": 13,
   "metadata": {},
   "outputs": [],
   "source": [
    "# TODO figure out what the electrode table is and how to create it"
   ]
  },
  {
   "cell_type": "markdown",
   "metadata": {},
   "source": [
    "## Read in ECOG"
   ]
  },
  {
   "cell_type": "code",
   "execution_count": null,
   "metadata": {},
   "outputs": [],
   "source": [
    "%% ECoG\n",
    "\n",
    "stream_names = fieldnames(tdt.streams);\n",
    "\n",
    "ecog_stream_names = sort(stream_names(contains(stream_names, 'Wav')));\n",
    "\n",
    "Data = [];\n",
    "for i = 1:length(ecog_stream_names)\n",
    "    stream = tdt.streams.(ecog_stream_names{i});\n",
    "    Data = [Data, stream.data'];\n",
    "end\n",
    "Data = Data(:, ecog_channels);"
   ]
  },
  {
   "cell_type": "code",
   "execution_count": 40,
   "metadata": {},
   "outputs": [],
   "source": [
    "# Here our data doesn't seem to correspond to the Chang Lab's data.\n",
    "# Looks like they're appending their \"Wav\" files together, we don't have the correct dimensions\n",
    "ecog_data = None\n",
    "for k, v in tdt_data.streams.items():\n",
    "    if \"Wav5\" in k:\n",
    "        ecog_data = v.data.T\n"
   ]
  },
  {
   "cell_type": "markdown",
   "metadata": {},
   "source": [
    "## Create electrical series"
   ]
  },
  {
   "cell_type": "code",
   "execution_count": null,
   "metadata": {},
   "outputs": [],
   "source": [
    "es = types.core.ElectricalSeries('starting_time', stream.startTime,...\n",
    "    'starting_time_rate', stream.fs,...\n",
    "    'data',Data',...\n",
    "    'electrodes', electrode_table_region,...\n",
    "    'data_unit', 'V');\n",
    "\n",
    "file.acquisition.set('ECoG', es);\n",
    "\n",
    "\n",
    "ECoG_soft_link = types.untyped.SoftLink('/aquisition/ECoG');"
   ]
  },
  {
   "cell_type": "code",
   "execution_count": 48,
   "metadata": {},
   "outputs": [
    {
     "ename": "TypeError",
     "evalue": "ElectricalSeries.__init__: None is not allowed for 'electrodes' (expected 'DynamicTableRegion', not None)",
     "output_type": "error",
     "traceback": [
      "\u001b[0;31m---------------------------------------------------------------------------\u001b[0m",
      "\u001b[0;31mTypeError\u001b[0m                                 Traceback (most recent call last)",
      "\u001b[0;32m<ipython-input-48-36787af97473>\u001b[0m in \u001b[0;36m<module>\u001b[0;34m\u001b[0m\n\u001b[1;32m      4\u001b[0m     es = ElectricalSeries(name=\"WAV files\",\n\u001b[1;32m      5\u001b[0m                      \u001b[0mdata\u001b[0m \u001b[0;34m=\u001b[0m \u001b[0mecog_data\u001b[0m\u001b[0;34m,\u001b[0m\u001b[0;34m\u001b[0m\u001b[0;34m\u001b[0m\u001b[0m\n\u001b[0;32m----> 6\u001b[0;31m                      \u001b[0melectrodes\u001b[0m \u001b[0;34m=\u001b[0m \u001b[0;32mNone\u001b[0m \u001b[0;31m# TODO: figure out electrodes, does not run\u001b[0m\u001b[0;34m\u001b[0m\u001b[0;34m\u001b[0m\u001b[0m\n\u001b[0m\u001b[1;32m      7\u001b[0m                     )\n\u001b[1;32m      8\u001b[0m     \u001b[0mNWBFile\u001b[0m\u001b[0;34m.\u001b[0m\u001b[0madd_acquisition\u001b[0m\u001b[0;34m(\u001b[0m\u001b[0mes\u001b[0m\u001b[0;34m)\u001b[0m\u001b[0;34m\u001b[0m\u001b[0;34m\u001b[0m\u001b[0m\n",
      "\u001b[0;32m~/scratch/venv/lib/python3.7/site-packages/hdmf/utils.py\u001b[0m in \u001b[0;36mfunc_call\u001b[0;34m(*args, **kwargs)\u001b[0m\n\u001b[1;32m    478\u001b[0m                 \u001b[0;32mif\u001b[0m \u001b[0mparse_err\u001b[0m\u001b[0;34m:\u001b[0m\u001b[0;34m\u001b[0m\u001b[0;34m\u001b[0m\u001b[0m\n\u001b[1;32m    479\u001b[0m                     \u001b[0mmsg\u001b[0m \u001b[0;34m=\u001b[0m \u001b[0;34m'%s: %s'\u001b[0m \u001b[0;34m%\u001b[0m \u001b[0;34m(\u001b[0m\u001b[0mfunc\u001b[0m\u001b[0;34m.\u001b[0m\u001b[0m__qualname__\u001b[0m\u001b[0;34m,\u001b[0m \u001b[0;34m', '\u001b[0m\u001b[0;34m.\u001b[0m\u001b[0mjoin\u001b[0m\u001b[0;34m(\u001b[0m\u001b[0mparse_err\u001b[0m\u001b[0;34m)\u001b[0m\u001b[0;34m)\u001b[0m\u001b[0;34m\u001b[0m\u001b[0;34m\u001b[0m\u001b[0m\n\u001b[0;32m--> 480\u001b[0;31m                     \u001b[0;32mraise\u001b[0m \u001b[0mExceptionType\u001b[0m\u001b[0;34m(\u001b[0m\u001b[0mmsg\u001b[0m\u001b[0;34m)\u001b[0m\u001b[0;34m\u001b[0m\u001b[0;34m\u001b[0m\u001b[0m\n\u001b[0m\u001b[1;32m    481\u001b[0m \u001b[0;34m\u001b[0m\u001b[0m\n\u001b[1;32m    482\u001b[0m             \u001b[0;32mif\u001b[0m \u001b[0mis_method\u001b[0m\u001b[0;34m:\u001b[0m\u001b[0;34m\u001b[0m\u001b[0;34m\u001b[0m\u001b[0m\n",
      "\u001b[0;31mTypeError\u001b[0m: ElectricalSeries.__init__: None is not allowed for 'electrodes' (expected 'DynamicTableRegion', not None)"
     ]
    }
   ],
   "source": [
    "from pynwb.ecephys import ElectricalSeries\n",
    "if ecog_data is not None:\n",
    "    \n",
    "    es = ElectricalSeries(name=\"WAV files\",\n",
    "                     data = ecog_data,\n",
    "                     electrodes = None # TODO: figure out electrodes, does not run\n",
    "                    )\n",
    "    NWBFile.add_acquisition(es)"
   ]
  },
  {
   "cell_type": "markdown",
   "metadata": {},
   "source": [
    "## Create Eyetracking"
   ]
  },
  {
   "cell_type": "code",
   "execution_count": null,
   "metadata": {},
   "outputs": [],
   "source": [
    "%% ANIN\n",
    "\n",
    "stream = tdt.streams.ANIN;\n",
    "\n",
    "labels = {'microphone', 'speaker1', 'speaker2', 'anin4'};\n",
    "\n",
    "for i = 1:length(labels)\n",
    "    ts = types.core.TimeSeries('starting_time',stream.startTime,...\n",
    "        'starting_time_rate',stream.fs,...\n",
    "        'data',stream.data(i,:)',...\n",
    "        'data_unit','V?');\n",
    "    file.acquisition.set(labels{i}, ts);\n",
    "end"
   ]
  },
  {
   "cell_type": "code",
   "execution_count": null,
   "metadata": {},
   "outputs": [],
   "source": []
  },
  {
   "cell_type": "code",
   "execution_count": null,
   "metadata": {},
   "outputs": [],
   "source": [
    "%% Cortical Surface\n",
    "% generateExtension('/Users/bendichter/dev/nwbext_ecog/nwbext_ecog/ecog.namespace.yaml');\n",
    "\n",
    "mesh_dir = fullfile(imaging_path, 'Meshes');\n",
    "mesh_file_list = dir([mesh_dir '/*_pial.mat']);\n",
    "mesh_file_list = {mesh_file_list.name};\n",
    "\n",
    "cortical_surfaces = types.ecog.CorticalSurfaces;\n",
    "\n",
    "for i = 1:length(mesh_file_list)\n",
    "    mesh_file = mesh_file_list{i};\n",
    "    surf_load = load(fullfile(mesh_dir, mesh_file));\n",
    "    if isfield(surf_load,'mesh')\n",
    "        faces = surf_load.mesh.tri - 1; % faces stored as 0-indexed in nwbext_ecog\n",
    "        vertices = surf_load.mesh.vert;\n",
    "    elseif isfield(surf_load,'cortex')\n",
    "        faces = surf_load.cortex.tri - 1; % faces stored as 0-indexed in nwbext_ecog\n",
    "        vertices = surf_load.cortex.vert;\n",
    "    else\n",
    "        keyboard\n",
    "    end\n",
    "    surf = types.ecog.Surface('faces', faces', 'vertices', vertices');\n",
    "    surf_name = mesh_file(find(mesh_file == '_', 1)+1 : end-9);\n",
    "    cortical_surfaces.surface.set(surf_name, surf);\n",
    "end\n",
    "\n",
    "file.acquisition.set('CorticalSurfaces', cortical_surfaces);"
   ]
  },
  {
   "cell_type": "raw",
   "metadata": {},
   "source": [
    "%% write file\n",
    "nwbExport(file, nwb_path)\n",
    "\n",
    "%% test read\n",
    "nwb_read = nwbRead(nwb_path);"
   ]
  }
 ],
 "metadata": {
  "kernelspec": {
   "display_name": "nwb",
   "language": "python",
   "name": "nwb"
  },
  "language_info": {
   "codemirror_mode": {
    "name": "ipython",
    "version": 3
   },
   "file_extension": ".py",
   "mimetype": "text/x-python",
   "name": "python",
   "nbconvert_exporter": "python",
   "pygments_lexer": "ipython3",
   "version": "3.7.3"
  }
 },
 "nbformat": 4,
 "nbformat_minor": 2
}
